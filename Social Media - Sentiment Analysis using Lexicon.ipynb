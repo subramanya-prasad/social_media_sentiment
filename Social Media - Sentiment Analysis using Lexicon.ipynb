{
 "cells": [
  {
   "cell_type": "code",
   "execution_count": null,
   "metadata": {},
   "outputs": [],
   "source": [
    "# !pip install vaderSentiment"
   ]
  },
  {
   "cell_type": "code",
   "execution_count": null,
   "metadata": {},
   "outputs": [],
   "source": [
    "\n",
    "import pandas as pd\n",
    "from vaderSentiment.vaderSentiment import SentimentIntensityAnalyzer\n",
    "from bs4 import BeautifulSoup\n",
    "\n",
    "df=pd.read_csv('twitter_senti.csv')\n"
   ]
  },
  {
   "cell_type": "code",
   "execution_count": null,
   "metadata": {},
   "outputs": [],
   "source": [
    "corp = df[['Content','Article_id']]"
   ]
  },
  {
   "cell_type": "markdown",
   "metadata": {},
   "source": [
    "## Preprocessing Text - Lowercase, Remove Numbers, Remove punctuations, White Space, Stop Words and Spars terms"
   ]
  },
  {
   "cell_type": "code",
   "execution_count": null,
   "metadata": {},
   "outputs": [],
   "source": [
    "\n",
    "from nltk.corpus import stopwords\n",
    "stops = set(stopwords.words('english'))\n",
    "def content_to_words(content):\n",
    "    review_text = BeautifulSoup(review,'lxml').get_text().lower() #Case lowering\n",
    "    \n",
    "    # Replacing Similies and frown faces,! and ? with coded word SM{int} in case they are valuable\n",
    "    review_text = re.sub(\"(:\\))\",'r','SM1',review_text)\n",
    "    review_text = re.sub(\":(:\\())\",'r','SM2',review_text)\n",
    "    review_text = re.sub(\"(!)\",'r','SM3',review_text)\n",
    "    review_text = re.sub(\"(\\?)\",'r','SM4',review_text)\n",
    "    \n",
    "    #Keep 'not' and next word as negation may be important\n",
    "    review_text = re.sub(r'not\\s\\b(.*?)\\b',r'not_\\1',review_text)\n",
    "    \n",
    "    #keep letters and coded words, replace rest with whitespace\n",
    "    nonnumbers_only = re.sub('[^a-zA-Z\\_(SM\\d)]',' ',review_text)\n",
    "    \n",
    "    #split into individual words on whitespace\n",
    "    words = nonnumbers_only.split()\n",
    "    \n",
    "    #Remove stop words\n",
    "    words = [w for w in words if not w in stops]\n",
    "    \n",
    "    return words\n"
   ]
  },
  {
   "cell_type": "code",
   "execution_count": null,
   "metadata": {},
   "outputs": [],
   "source": [
    "fin_ = pd.DataFrame({'index':[], 'Content':[], 'senti_score':[],'final_sentiment':[]})\n",
    "\n",
    "sid = SentimentIntensityAnalyzer()\n",
    "\n",
    "for sent in corp.index:\n",
    "    try:\n",
    "        str_ = ' '.join(map(str,content_to_words(sent)))\n",
    "        pol = sid.polarity_scores(str(str_))\n",
    "        new_pol = {k: v for k, v in pol.items() if k !='compound'} # to filter only neg, neu and pos\n",
    "        max_po = max(new_pol, key=new_pol.get)\n",
    "        fin_ = fin_.append({'index':sent, 'Content':corp['Content'][sent], 'senti_score':pol,'final_sentiment':max_po}, ignore_index=True)\n",
    "        \n",
    "    except:\n",
    "        pass\n",
    "    \n",
    "fin_.to_csv('sentiment scored.csv')"
   ]
  }
 ],
 "metadata": {
  "kernelspec": {
   "display_name": "Python 3.6",
   "language": "python",
   "name": "python36"
  },
  "language_info": {
   "codemirror_mode": {
    "name": "ipython",
    "version": 3
   },
   "file_extension": ".py",
   "mimetype": "text/x-python",
   "name": "python",
   "nbconvert_exporter": "python",
   "pygments_lexer": "ipython3",
   "version": "3.6.6"
  }
 },
 "nbformat": 4,
 "nbformat_minor": 1
}
